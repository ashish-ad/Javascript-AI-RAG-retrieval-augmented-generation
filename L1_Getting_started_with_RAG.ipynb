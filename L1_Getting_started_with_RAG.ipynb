{
 "cells": [
  {
   "cell_type": "code",
   "execution_count": 1,
   "id": "484baa7d-b85b-4d05-9217-7524990965f8",
   "metadata": {
    "dotnet_interactive": {
     "language": "csharp"
    },
    "polyglot_notebook": {
     "kernelName": "csharp"
    }
   },
   "outputs": [],
   "source": [
    "import * as mod from \"https://deno.land/std@0.213.0/dotenv/mod.ts\";\n",
    "const keys = await mod.load({export:true}) // read API key from .env"
   ]
  },
  {
   "cell_type": "code",
   "execution_count": 2,
   "id": "da24479f-aa89-4d3d-b0b9-3c0d8ec68d1f",
   "metadata": {},
   "outputs": [
    {
     "name": "stdout",
     "output_type": "stream",
     "text": [
      "[Module: null prototype] {\n",
      "  MissingEnvVarsError: [class MissingEnvVarsError extends Error],\n",
      "  load: [AsyncFunction: load],\n",
      "  loadSync: [Function: loadSync],\n",
      "  parse: [Function: parse],\n",
      "  stringify: [Function: stringify]\n",
      "}\n"
     ]
    }
   ],
   "source": [
    "console.log(mod)"
   ]
  },
  {
   "cell_type": "code",
   "execution_count": 3,
   "id": "3cf037a1-06ac-4e1e-a809-f565473223cf",
   "metadata": {
    "dotnet_interactive": {
     "language": "csharp"
    },
    "polyglot_notebook": {
     "kernelName": "csharp"
    }
   },
   "outputs": [],
   "source": [
    "import { \n",
    "    Document, \n",
    "    VectorStoreIndex,\n",
    "    SimpleDirectoryReader \n",
    "} from \"npm:llamaindex@0.1.8\""
   ]
  },
  {
   "cell_type": "code",
   "execution_count": null,
   "id": "7f9f58ce-9b3a-4afd-af33-d8e7ea9d466a",
   "metadata": {},
   "outputs": [],
   "source": [
    "const documents = await new SimpleDirectoryReader()\n",
    "    .loadData({directoryPath: \"./data\"})"
   ]
  },
  {
   "cell_type": "code",
   "execution_count": null,
   "id": "16af658e-0625-435b-b346-db4817e3fb1d",
   "metadata": {},
   "outputs": [],
   "source": []
  }
 ],
 "metadata": {
  "kernelspec": {
   "display_name": "Deno",
   "language": "typescript",
   "name": "deno"
  },
  "language_info": {
   "file_extension": ".ts",
   "mimetype": "text/x.typescript",
   "name": "typescript",
   "nb_converter": "script",
   "pygments_lexer": "typescript",
   "version": "5.4.5"
  },
  "polyglot_notebook": {
   "kernelInfo": {
    "defaultKernelName": "csharp",
    "items": [
     {
      "aliases": [],
      "name": "csharp"
     }
    ]
   }
  }
 },
 "nbformat": 4,
 "nbformat_minor": 5
}
